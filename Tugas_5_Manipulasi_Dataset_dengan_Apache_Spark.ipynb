{
  "nbformat": 4,
  "nbformat_minor": 0,
  "metadata": {
    "colab": {
      "provenance": [],
      "authorship_tag": "ABX9TyPUf79XXQ51YRr3ZAL5gC5H",
      "include_colab_link": true
    },
    "kernelspec": {
      "name": "python3",
      "display_name": "Python 3"
    },
    "language_info": {
      "name": "python"
    }
  },
  "cells": [
    {
      "cell_type": "markdown",
      "metadata": {
        "id": "view-in-github",
        "colab_type": "text"
      },
      "source": [
        "<a href=\"https://colab.research.google.com/github/faizdifak/Big-Data/blob/main/Tugas_5_Manipulasi_Dataset_dengan_Apache_Spark.ipynb\" target=\"_parent\"><img src=\"https://colab.research.google.com/assets/colab-badge.svg\" alt=\"Open In Colab\"/></a>"
      ]
    },
    {
      "cell_type": "code",
      "execution_count": null,
      "metadata": {
        "colab": {
          "base_uri": "https://localhost:8080/"
        },
        "id": "6h3UboZJpUcx",
        "outputId": "da39f738-415f-4399-b7b8-f4bf127b1236"
      },
      "outputs": [
        {
          "output_type": "stream",
          "name": "stdout",
          "text": [
            "Collecting opendatasets\n",
            "  Downloading opendatasets-0.1.22-py3-none-any.whl.metadata (9.2 kB)\n",
            "Requirement already satisfied: tqdm in /usr/local/lib/python3.12/dist-packages (from opendatasets) (4.67.1)\n",
            "Requirement already satisfied: kaggle in /usr/local/lib/python3.12/dist-packages (from opendatasets) (1.7.4.5)\n",
            "Requirement already satisfied: click in /usr/local/lib/python3.12/dist-packages (from opendatasets) (8.2.1)\n",
            "Requirement already satisfied: bleach in /usr/local/lib/python3.12/dist-packages (from kaggle->opendatasets) (6.2.0)\n",
            "Requirement already satisfied: certifi>=14.05.14 in /usr/local/lib/python3.12/dist-packages (from kaggle->opendatasets) (2025.8.3)\n",
            "Requirement already satisfied: charset-normalizer in /usr/local/lib/python3.12/dist-packages (from kaggle->opendatasets) (3.4.3)\n",
            "Requirement already satisfied: idna in /usr/local/lib/python3.12/dist-packages (from kaggle->opendatasets) (3.10)\n",
            "Requirement already satisfied: protobuf in /usr/local/lib/python3.12/dist-packages (from kaggle->opendatasets) (5.29.5)\n",
            "Requirement already satisfied: python-dateutil>=2.5.3 in /usr/local/lib/python3.12/dist-packages (from kaggle->opendatasets) (2.9.0.post0)\n",
            "Requirement already satisfied: python-slugify in /usr/local/lib/python3.12/dist-packages (from kaggle->opendatasets) (8.0.4)\n",
            "Requirement already satisfied: requests in /usr/local/lib/python3.12/dist-packages (from kaggle->opendatasets) (2.32.4)\n",
            "Requirement already satisfied: setuptools>=21.0.0 in /usr/local/lib/python3.12/dist-packages (from kaggle->opendatasets) (75.2.0)\n",
            "Requirement already satisfied: six>=1.10 in /usr/local/lib/python3.12/dist-packages (from kaggle->opendatasets) (1.17.0)\n",
            "Requirement already satisfied: text-unidecode in /usr/local/lib/python3.12/dist-packages (from kaggle->opendatasets) (1.3)\n",
            "Requirement already satisfied: urllib3>=1.15.1 in /usr/local/lib/python3.12/dist-packages (from kaggle->opendatasets) (2.5.0)\n",
            "Requirement already satisfied: webencodings in /usr/local/lib/python3.12/dist-packages (from kaggle->opendatasets) (0.5.1)\n",
            "Downloading opendatasets-0.1.22-py3-none-any.whl (15 kB)\n",
            "Installing collected packages: opendatasets\n",
            "Successfully installed opendatasets-0.1.22\n"
          ]
        }
      ],
      "source": [
        "!pip install opendatasets"
      ]
    },
    {
      "cell_type": "code",
      "source": [
        "import opendatasets as od\n",
        "od.download(\"https://www.kaggle.com/datasets/spscientist/students-performance-in-exams\")"
      ],
      "metadata": {
        "colab": {
          "base_uri": "https://localhost:8080/"
        },
        "id": "9HyBxB7kqmNH",
        "outputId": "e67c4527-e607-4b42-f468-294a382c9a80"
      },
      "execution_count": null,
      "outputs": [
        {
          "output_type": "stream",
          "name": "stdout",
          "text": [
            "Please provide your Kaggle credentials to download this dataset. Learn more: http://bit.ly/kaggle-creds\n",
            "Your Kaggle username: FaizDifak\n",
            "Your Kaggle Key: ··········\n",
            "Dataset URL: https://www.kaggle.com/datasets/spscientist/students-performance-in-exams\n",
            "Downloading students-performance-in-exams.zip to ./students-performance-in-exams\n"
          ]
        },
        {
          "output_type": "stream",
          "name": "stderr",
          "text": [
            "100%|██████████| 8.70k/8.70k [00:00<00:00, 14.1MB/s]"
          ]
        },
        {
          "output_type": "stream",
          "name": "stdout",
          "text": [
            "\n"
          ]
        },
        {
          "output_type": "stream",
          "name": "stderr",
          "text": [
            "\n"
          ]
        }
      ]
    },
    {
      "cell_type": "code",
      "source": [
        "# Load Dataset\n",
        "from pyspark.sql import SparkSession\n",
        "\n",
        "# Buat SparkSession\n",
        "spark = SparkSession.builder.appName(\"StudentsPerformance\").getOrCreate()\n",
        "\n",
        "# Load dataset\n",
        "df = spark.read.csv(\"/content/students-performance-in-exams/StudentsPerformance.csv\", header=True, inferSchema=True)\n",
        "\n",
        "# Lihat schema dan 5 data awal\n",
        "df.printSchema()\n",
        "df.show(5)\n"
      ],
      "metadata": {
        "colab": {
          "base_uri": "https://localhost:8080/"
        },
        "id": "dfUAQNfgrVH1",
        "outputId": "2d2837d9-9aab-4941-b606-c63648ae566a"
      },
      "execution_count": null,
      "outputs": [
        {
          "output_type": "stream",
          "name": "stdout",
          "text": [
            "root\n",
            " |-- gender: string (nullable = true)\n",
            " |-- race/ethnicity: string (nullable = true)\n",
            " |-- parental level of education: string (nullable = true)\n",
            " |-- lunch: string (nullable = true)\n",
            " |-- test preparation course: string (nullable = true)\n",
            " |-- math score: integer (nullable = true)\n",
            " |-- reading score: integer (nullable = true)\n",
            " |-- writing score: integer (nullable = true)\n",
            "\n",
            "+------+--------------+---------------------------+------------+-----------------------+----------+-------------+-------------+\n",
            "|gender|race/ethnicity|parental level of education|       lunch|test preparation course|math score|reading score|writing score|\n",
            "+------+--------------+---------------------------+------------+-----------------------+----------+-------------+-------------+\n",
            "|female|       group B|          bachelor's degree|    standard|                   none|        72|           72|           74|\n",
            "|female|       group C|               some college|    standard|              completed|        69|           90|           88|\n",
            "|female|       group B|            master's degree|    standard|                   none|        90|           95|           93|\n",
            "|  male|       group A|         associate's degree|free/reduced|                   none|        47|           57|           44|\n",
            "|  male|       group C|               some college|    standard|                   none|        76|           78|           75|\n",
            "+------+--------------+---------------------------+------------+-----------------------+----------+-------------+-------------+\n",
            "only showing top 5 rows\n",
            "\n"
          ]
        }
      ]
    },
    {
      "cell_type": "code",
      "source": [
        "# Jumlah data\n",
        "print(\"Jumlah siswa:\", df.count())"
      ],
      "metadata": {
        "colab": {
          "base_uri": "https://localhost:8080/"
        },
        "id": "_tWffM2jsZhh",
        "outputId": "2ffb8e9e-d86c-40d9-9626-275feab2df12"
      },
      "execution_count": null,
      "outputs": [
        {
          "output_type": "stream",
          "name": "stdout",
          "text": [
            "Jumlah siswa: 1000\n"
          ]
        }
      ]
    },
    {
      "cell_type": "code",
      "source": [
        "# Nilai rata-rata per mata pelajaran\n",
        "df.selectExpr(\n",
        "    \"avg(`math score`) as rata_math\",\n",
        "    \"avg(`reading score`) as rata_reading\",\n",
        "    \"avg(`writing score`) as rata_writing\"\n",
        ").show()"
      ],
      "metadata": {
        "colab": {
          "base_uri": "https://localhost:8080/"
        },
        "id": "0SIZpjn1sb7y",
        "outputId": "ce5ca4f8-c9d5-4cc4-ff25-4275cd41436c"
      },
      "execution_count": null,
      "outputs": [
        {
          "output_type": "stream",
          "name": "stdout",
          "text": [
            "+---------+------------+------------+\n",
            "|rata_math|rata_reading|rata_writing|\n",
            "+---------+------------+------------+\n",
            "|   66.089|      69.169|      68.054|\n",
            "+---------+------------+------------+\n",
            "\n"
          ]
        }
      ]
    },
    {
      "cell_type": "code",
      "source": [
        "# Rata-rata nilai berdasarkan gender\n",
        "df.groupBy(\"gender\").avg(\"math score\", \"reading score\", \"writing score\").show()"
      ],
      "metadata": {
        "colab": {
          "base_uri": "https://localhost:8080/"
        },
        "id": "JpD0BYgGsfxY",
        "outputId": "6dbbcde6-3991-4486-c382-1132569deebd"
      },
      "execution_count": null,
      "outputs": [
        {
          "output_type": "stream",
          "name": "stdout",
          "text": [
            "+------+------------------+------------------+------------------+\n",
            "|gender|   avg(math score)|avg(reading score)|avg(writing score)|\n",
            "+------+------------------+------------------+------------------+\n",
            "|female|63.633204633204635| 72.60810810810811| 72.46718146718146|\n",
            "|  male| 68.72821576763485| 65.47302904564316| 63.31120331950208|\n",
            "+------+------------------+------------------+------------------+\n",
            "\n"
          ]
        }
      ]
    },
    {
      "cell_type": "code",
      "source": [
        "# Pengaruh kursus persiapan ujian\n",
        "df.groupBy(\"test preparation course\").avg(\"math score\", \"reading score\", \"writing score\").show()"
      ],
      "metadata": {
        "colab": {
          "base_uri": "https://localhost:8080/"
        },
        "id": "t2rDNfO4skrg",
        "outputId": "fc0c2219-25a0-44a2-b789-82edae9e3d5e"
      },
      "execution_count": null,
      "outputs": [
        {
          "output_type": "stream",
          "name": "stdout",
          "text": [
            "+-----------------------+-----------------+------------------+------------------+\n",
            "|test preparation course|  avg(math score)|avg(reading score)|avg(writing score)|\n",
            "+-----------------------+-----------------+------------------+------------------+\n",
            "|              completed|69.69553072625699| 73.89385474860335| 74.41899441340782|\n",
            "|                   none| 64.0778816199377| 66.53426791277259| 64.50467289719626|\n",
            "+-----------------------+-----------------+------------------+------------------+\n",
            "\n"
          ]
        }
      ]
    },
    {
      "cell_type": "code",
      "source": [
        "# Rata-rata nilai berdasarkan tingkat pendidikan orang tua\n",
        "df.groupBy(\"parental level of education\") \\\n",
        "  .avg(\"math score\", \"reading score\", \"writing score\") \\\n",
        "  .orderBy(\"avg(math score)\", ascending=False).show()"
      ],
      "metadata": {
        "colab": {
          "base_uri": "https://localhost:8080/"
        },
        "id": "qO9tnjMisnYS",
        "outputId": "5ba27cec-5d72-4174-e6d5-f0a0cd47c8d7"
      },
      "execution_count": null,
      "outputs": [
        {
          "output_type": "stream",
          "name": "stdout",
          "text": [
            "+---------------------------+------------------+------------------+------------------+\n",
            "|parental level of education|   avg(math score)|avg(reading score)|avg(writing score)|\n",
            "+---------------------------+------------------+------------------+------------------+\n",
            "|            master's degree|  69.7457627118644| 75.37288135593221| 75.67796610169492|\n",
            "|          bachelor's degree| 69.38983050847457|              73.0| 73.38135593220339|\n",
            "|         associate's degree| 67.88288288288288| 70.92792792792793|  69.8963963963964|\n",
            "|               some college|  67.1283185840708| 69.46017699115045| 68.84070796460178|\n",
            "|           some high school|63.497206703910614| 66.93854748603351| 64.88826815642459|\n",
            "|                high school| 62.13775510204081| 64.70408163265306| 62.44897959183673|\n",
            "+---------------------------+------------------+------------------+------------------+\n",
            "\n"
          ]
        }
      ]
    },
    {
      "cell_type": "code",
      "source": [],
      "metadata": {
        "id": "cGdQalQ4tSGw"
      },
      "execution_count": null,
      "outputs": []
    }
  ]
}