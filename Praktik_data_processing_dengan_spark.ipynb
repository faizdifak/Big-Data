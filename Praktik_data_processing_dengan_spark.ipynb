{
  "nbformat": 4,
  "nbformat_minor": 0,
  "metadata": {
    "colab": {
      "provenance": [],
      "authorship_tag": "ABX9TyOLuIp9Pb1fawm+W8fUMDod",
      "include_colab_link": true
    },
    "kernelspec": {
      "name": "python3",
      "display_name": "Python 3"
    },
    "language_info": {
      "name": "python"
    }
  },
  "cells": [
    {
      "cell_type": "markdown",
      "metadata": {
        "id": "view-in-github",
        "colab_type": "text"
      },
      "source": [
        "<a href=\"https://colab.research.google.com/github/faizdifak/Big-Data/blob/main/Praktik_data_processing_dengan_spark.ipynb\" target=\"_parent\"><img src=\"https://colab.research.google.com/assets/colab-badge.svg\" alt=\"Open In Colab\"/></a>"
      ]
    },
    {
      "cell_type": "code",
      "execution_count": null,
      "metadata": {
        "colab": {
          "base_uri": "https://localhost:8080/"
        },
        "id": "otoKpILI6Axt",
        "outputId": "c09f0f78-2dcd-4c2b-a92b-dfd798c1897f"
      },
      "outputs": [
        {
          "output_type": "stream",
          "name": "stdout",
          "text": [
            "+------------+--------+------+\n",
            "|EmployeeName| Profesi|Salary|\n",
            "+------------+--------+------+\n",
            "|       Ridho|     ASN|  1000|\n",
            "|        Rama|Karyawan|  2000|\n",
            "|        Ratu|  Dokter|  5100|\n",
            "|      Sintha|    Guru|  4000|\n",
            "|        Zeni|   Sales|  3000|\n",
            "+------------+--------+------+\n",
            "\n"
          ]
        }
      ],
      "source": [
        "# Tugas 1 Buat DataFrame sederhana dan Operasi dasar\n",
        "from pyspark.sql import SparkSession\n",
        "spark = SparkSession.builder.appName('Profesi').getOrCreate()\n",
        "\n",
        "data = [('Ridho', 'ASN', 1000),\n",
        "        ('Rama', 'Karyawan', 2000),\n",
        "        ('Ratu', 'Dokter', 5100),\n",
        "        ('Sintha', 'Guru', 4000),\n",
        "        ('Zeni', 'Sales', 3000)]\n",
        "columns = ['EmployeeName', 'Profesi', 'Salary']\n",
        "\n",
        "df = spark.createDataFrame(data, schema=columns)\n",
        "df.show()"
      ]
    },
    {
      "cell_type": "code",
      "source": [
        "# Tugas 2 Gunakan Operasi filter, select, groupBy\n",
        "# Operasi Transformasi DataFrame\n",
        "df.select('EmployeeName', 'Salary').show()\n",
        "df.filter(df['Salary'] > 3000).show()\n",
        "df.groupBy('Profesi').avg('Salary').show()"
      ],
      "metadata": {
        "colab": {
          "base_uri": "https://localhost:8080/"
        },
        "id": "vlu2Drk_-zLG",
        "outputId": "97daf85d-e74c-4cca-dc9d-b5a797f0ba1e"
      },
      "execution_count": null,
      "outputs": [
        {
          "output_type": "stream",
          "name": "stdout",
          "text": [
            "+------------+------+\n",
            "|EmployeeName|Salary|\n",
            "+------------+------+\n",
            "|       Ridho|  1000|\n",
            "|        Rama|  2000|\n",
            "|        Ratu|  5100|\n",
            "|      Sintha|  4000|\n",
            "|        Zeni|  3000|\n",
            "+------------+------+\n",
            "\n",
            "+------------+-------+------+\n",
            "|EmployeeName|Profesi|Salary|\n",
            "+------------+-------+------+\n",
            "|        Ratu| Dokter|  5100|\n",
            "|      Sintha|   Guru|  4000|\n",
            "+------------+-------+------+\n",
            "\n",
            "+--------+-----------+\n",
            "| Profesi|avg(Salary)|\n",
            "+--------+-----------+\n",
            "|     ASN|     1000.0|\n",
            "|Karyawan|     2000.0|\n",
            "|   Sales|     3000.0|\n",
            "|    Guru|     4000.0|\n",
            "|  Dokter|     5100.0|\n",
            "+--------+-----------+\n",
            "\n"
          ]
        }
      ]
    },
    {
      "cell_type": "code",
      "metadata": {
        "colab": {
          "base_uri": "https://localhost:8080/"
        },
        "id": "0_8uI0qO8Mww",
        "outputId": "2f786ea3-d2b4-4b74-c8e5-21d654714a6a"
      },
      "source": [
        "# Tugas 3 Eksplorasi bagaimana mengolah tipe data kompleks\n",
        "# Manipulasi tipe data kompleks\n",
        "df_with_bonus = df.withColumn('SalaryBonus', df['Salary'] * 0.1)\n",
        "df_with_bonus.withColumn('TotalCompensation', df_with_bonus['Salary'] + df_with_bonus['SalaryBonus']).show()"
      ],
      "execution_count": null,
      "outputs": [
        {
          "output_type": "stream",
          "name": "stdout",
          "text": [
            "+------------+--------+------+-----------+-----------------+\n",
            "|EmployeeName| Profesi|Salary|SalaryBonus|TotalCompensation|\n",
            "+------------+--------+------+-----------+-----------------+\n",
            "|       Ridho|     ASN|  1000|      100.0|           1100.0|\n",
            "|        Rama|Karyawan|  2000|      200.0|           2200.0|\n",
            "|        Ratu|  Dokter|  5100|      510.0|           5610.0|\n",
            "|      Sintha|    Guru|  4000|      400.0|           4400.0|\n",
            "|        Zeni|   Sales|  3000|      300.0|           3300.0|\n",
            "+------------+--------+------+-----------+-----------------+\n",
            "\n"
          ]
        }
      ]
    },
    {
      "cell_type": "code",
      "source": [
        "# Tugas 4 Implementasikan windows function untuk menghitung running totals atau rangkings\n",
        "# Menggunakan windows function\n",
        "from pyspark.sql.window import Window\n",
        "from pyspark.sql import functions as F\n",
        "\n",
        "windowSpec = Window.partitionBy('Profesi').orderBy('Salary')\n",
        "df.withColumn('Rank', F.rank().over(windowSpec)).show()"
      ],
      "metadata": {
        "colab": {
          "base_uri": "https://localhost:8080/"
        },
        "id": "Y2kA7Pvk_T-m",
        "outputId": "249db503-d41a-4e03-b762-153186e83a88"
      },
      "execution_count": null,
      "outputs": [
        {
          "output_type": "stream",
          "name": "stdout",
          "text": [
            "+------------+--------+------+----+\n",
            "|EmployeeName| Profesi|Salary|Rank|\n",
            "+------------+--------+------+----+\n",
            "|       Ridho|     ASN|  1000|   1|\n",
            "|        Ratu|  Dokter|  5100|   1|\n",
            "|      Sintha|    Guru|  4000|   1|\n",
            "|        Rama|Karyawan|  2000|   1|\n",
            "|        Zeni|   Sales|  3000|   1|\n",
            "+------------+--------+------+----+\n",
            "\n"
          ]
        }
      ]
    },
    {
      "cell_type": "code",
      "source": [],
      "metadata": {
        "id": "u1Ari4nS_rHa"
      },
      "execution_count": null,
      "outputs": []
    }
  ]
}