{
  "nbformat": 4,
  "nbformat_minor": 0,
  "metadata": {
    "colab": {
      "provenance": [],
      "authorship_tag": "ABX9TyPP91GaQv/7PGxjqttKEPPW",
      "include_colab_link": true
    },
    "kernelspec": {
      "name": "python3",
      "display_name": "Python 3"
    },
    "language_info": {
      "name": "python"
    }
  },
  "cells": [
    {
      "cell_type": "markdown",
      "metadata": {
        "id": "view-in-github",
        "colab_type": "text"
      },
      "source": [
        "<a href=\"https://colab.research.google.com/github/faizdifak/Big-Data/blob/main/Tugas_Mapreduce_sederhana.ipynb\" target=\"_parent\"><img src=\"https://colab.research.google.com/assets/colab-badge.svg\" alt=\"Open In Colab\"/></a>"
      ]
    },
    {
      "cell_type": "code",
      "execution_count": null,
      "metadata": {
        "colab": {
          "base_uri": "https://localhost:8080/"
        },
        "id": "moNKmRRrzvRy",
        "outputId": "17e174db-cb0a-4aed-a42a-44304284ac75"
      },
      "outputs": [
        {
          "output_type": "stream",
          "name": "stdout",
          "text": [
            "{'Kebumen': 2, 'Purworejo': 1, 'Cilacap': 2, 'Purwokerto': 1}\n"
          ]
        }
      ],
      "source": [
        "# Tugas 1\n",
        "data = [\"Kebumen\", \"Purworejo\", \"Cilacap\", \"Kebumen\", \"Purwokerto\", \"Cilacap\"]\n",
        "\n",
        "# Map\n",
        "mapped = [(item, 1) for item in data]\n",
        "\n",
        "# Reduce\n",
        "result = {}\n",
        "for key, value in mapped:\n",
        "    result[key] = result.get(key, 0) + value\n",
        "\n",
        "print(result)"
      ]
    },
    {
      "cell_type": "code",
      "source": [
        "# Tugas 2\n",
        "def map_function(text):\n",
        "    for word in text.split():\n",
        "        yield (word, 1)\n",
        "\n",
        "from collections import defaultdict\n",
        "\n",
        "def reduce_function(pairs):\n",
        "    result = defaultdict(int)\n",
        "    for word, count in pairs:\n",
        "        result[word] += count\n",
        "    return result\n",
        "\n",
        "text = \"Halo-Halo Bandung, Ibukota Periangan, Halo-Halo Bandung, Ibukota Kenangan\"\n",
        "mapped = list(map_function(text))\n",
        "reduced = reduce_function(mapped)\n",
        "print(reduced)"
      ],
      "metadata": {
        "colab": {
          "base_uri": "https://localhost:8080/"
        },
        "id": "OZMt7hKi2Agp",
        "outputId": "60068038-0e64-440a-c79b-ea6aefaef53d"
      },
      "execution_count": null,
      "outputs": [
        {
          "output_type": "stream",
          "name": "stdout",
          "text": [
            "defaultdict(<class 'int'>, {'Halo-Halo': 2, 'Bandung,': 2, 'Ibukota': 2, 'Periangan,': 1, 'Kenangan': 1})\n"
          ]
        }
      ]
    }
  ]
}